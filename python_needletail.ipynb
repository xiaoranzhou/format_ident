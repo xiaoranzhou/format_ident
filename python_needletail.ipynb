{
 "cells": [
  {
   "cell_type": "code",
   "execution_count": null,
   "metadata": {
    "scrolled": true
   },
   "outputs": [],
   "source": [
    "\n",
    "\n",
    "\n",
    "from needletail import parse_fastx_file, NeedletailError, reverse_complement, normalize_seq\n",
    "\n",
    "try:\n",
    "    for record in parse_fastx_file(\"/mnt/e/raw_data/SRR396636.sra_1.fastq\"):\n",
    "        print(record.id)\n",
    "        print(record.seq)\n",
    "        print(record.qual)\n",
    "except NeedletailError:\n",
    "    print(\"Invalid Fastq file\")"
   ]
  },
  {
   "cell_type": "code",
   "execution_count": null,
   "metadata": {},
   "outputs": [],
   "source": []
  }
 ],
 "metadata": {
  "kernelspec": {
   "display_name": "Python 3",
   "language": "python",
   "name": "python3"
  },
  "language_info": {
   "codemirror_mode": {
    "name": "ipython",
    "version": 3
   },
   "file_extension": ".py",
   "mimetype": "text/x-python",
   "name": "python",
   "nbconvert_exporter": "python",
   "pygments_lexer": "ipython3",
   "version": "3.8.10"
  }
 },
 "nbformat": 4,
 "nbformat_minor": 4
}
