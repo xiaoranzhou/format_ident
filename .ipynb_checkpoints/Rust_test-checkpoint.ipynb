{
 "cells": [
  {
   "cell_type": "code",
   "execution_count": 27,
   "metadata": {},
   "outputs": [
    {
     "data": {
      "text/html": [
       "<span style=\"color: rgba(0,0,0,0.4);\">Took 396ms</span>"
      ]
     },
     "execution_count": 27,
     "metadata": {},
     "output_type": "execute_result"
    }
   ],
   "source": [
    "extern crate needletail;\n",
    "use needletail::{parse_fastx_file, Sequence, FastxReader};\n",
    "use std::{str, fmt};\n",
    "\n",
    "\n",
    "\n",
    "\n",
    "\n",
    "\n",
    "\n",
    "fn parse_fastq_ndt(filename: &str) {    \n",
    "\n",
    "    let mut n_bases = 0;\n",
    "    let mut n_valid_kmers = 0;\n",
    "    let mut reader = parse_fastx_file(&filename).expect(\"valid path/file\");\n",
    "    while let Some(record) = reader.next() {\n",
    "        \n",
    "        let seqrec = record.expect(\"invalid record\");\n",
    "        // keep track of the total number of bases\n",
    "        n_bases += seqrec.num_bases();\n",
    "        // normalize to make sure all the bases are consistently capitalized and\n",
    "        // that we remove the newlines since this is FASTA\n",
    "        let norm_seq = seqrec.normalize(false);\n",
    "        // we make a reverse complemented copy of the sequence first for\n",
    "        // `canonical_kmers` to draw the complemented sequences from.\n",
    "        let rc = norm_seq.reverse_complement();\n",
    "        // now we keep track of the number of AAAAs (or TTTTs via\n",
    "        // canonicalization) in the file; note we also get the position (i.0;\n",
    "        // in the event there were `N`-containing kmers that were skipped)\n",
    "        // and whether the sequence was complemented (i.2) in addition to\n",
    "        // the canonical kmer (i.1)\n",
    "//         while seqrec.start_line_number <5 {\n",
    "//             let row = seqrec.raw_seq();\n",
    "//             println!( \" sads{}\", str::from_utf8(row.as_ref()).unwrap() );\n",
    "            \n",
    "            \n",
    "//         }\n",
    "        for (_, kmer, _) in norm_seq.canonical_kmers(4, &rc) {\n",
    "            if kmer == b\"AAAA\" {\n",
    "                n_valid_kmers += 1;\n",
    "            }\n",
    "        }\n",
    "    }\n",
    "    println!(\"There are {} bases in your file.\", n_bases);\n",
    "    println!(\"There are {} AAAAs in your file.\", n_valid_kmers);\n",
    "}"
   ]
  },
  {
   "cell_type": "code",
   "execution_count": 25,
   "metadata": {},
   "outputs": [
    {
     "data": {
      "text/plain": [
       "Timing: true\n"
      ]
     },
     "execution_count": 25,
     "metadata": {},
     "output_type": "execute_result"
    },
    {
     "data": {
      "text/html": [
       "<span style=\"color: rgba(0,0,0,0.4);\">Took 0ms</span>"
      ]
     },
     "execution_count": 25,
     "metadata": {},
     "output_type": "execute_result"
    }
   ],
   "source": [
    ":timing"
   ]
  },
  {
   "cell_type": "code",
   "execution_count": 28,
   "metadata": {},
   "outputs": [
    {
     "name": "stdout",
     "output_type": "stream",
     "text": [
      "There are 190926300 bases in your file.\n",
      "There are 515095 AAAAs in your file.\n"
     ]
    },
    {
     "data": {
      "text/plain": [
       "()"
      ]
     },
     "execution_count": 28,
     "metadata": {},
     "output_type": "execute_result"
    },
    {
     "data": {
      "text/html": [
       "<span style=\"color: rgba(0,0,0,0.4);\">Took 4970ms</span>"
      ]
     },
     "execution_count": 28,
     "metadata": {},
     "output_type": "execute_result"
    }
   ],
   "source": [
    "let filename = \"/mnt/e/raw_data/SRR396636.sra_2.fastq\";\n",
    "parse_fastq_ndt(filename)"
   ]
  },
  {
   "cell_type": "code",
   "execution_count": 22,
   "metadata": {},
   "outputs": [
    {
     "ename": "Error",
     "evalue": "literal out of range for `i32`",
     "output_type": "error",
     "traceback": [
      "999999999992+2",
      "\u001b[91m^^^^^^^^^^^^\u001b[0m \u001b[94m\u001b[0m",
      "literal out of range for `i32`",
      "\u001b[1mhelp\u001b[0m: consider using the type `i64` instead"
     ]
    }
   ],
   "source": []
  }
 ],
 "metadata": {
  "kernelspec": {
   "display_name": "Rust",
   "language": "rust",
   "name": "rust"
  },
  "language_info": {
   "codemirror_mode": "rust",
   "file_extension": ".rs",
   "mimetype": "text/rust",
   "name": "Rust",
   "pygment_lexer": "rust",
   "version": ""
  }
 },
 "nbformat": 4,
 "nbformat_minor": 4
}
